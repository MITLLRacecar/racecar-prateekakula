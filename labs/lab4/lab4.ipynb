{
 "cells": [
  {
   "cell_type": "markdown",
   "source": [
    "<a id=\"GettingStarted\"></a>\r\n",
    "## 1. Getting Started\r\n",
    "\r\n",
    "**<font style=\"color:red\">If you are running the car in RacecarSim, set `isSimulation` to `True`</font>**. Leave `isSimulation` `False` if you are using a physical car."
   ],
   "metadata": {}
  },
  {
   "cell_type": "code",
   "execution_count": 79,
   "source": [
    "# Import Python libraries\r\n",
    "import math\r\n",
    "import cv2 as cv\r\n",
    "import numpy as np\r\n",
    "import matplotlib.pyplot as plt\r\n",
    "import ipywidgets as widgets\r\n",
    "import statistics\r\n",
    "from nptyping import NDArray\r\n",
    "from typing import Any, Tuple, List, Optional\r\n",
    "\r\n",
    "# Import Racecar library\r\n",
    "import sys\r\n",
    "sys.path.append(\"../../library\")\r\n",
    "import racecar_core\r\n",
    "import racecar_utils as rc_utils"
   ],
   "outputs": [],
   "metadata": {}
  },
  {
   "cell_type": "markdown",
   "source": [
    "Finally, we will create a racecar object.  If this step fails, make sure that `isSimulation` has the correct value."
   ],
   "metadata": {}
  },
  {
   "cell_type": "markdown",
   "source": [
    "<a id=\"GatheringLidarData\"></a>\r\n",
    "## 2. Gathering LIDAR Data\r\n",
    "The racecar's LIDAR data is stored as a one-dimensional numpy array of 720 distance measurements.  Each measurement is 1/2 of a degree apart, ordered clockwise, with the 0th entry directly in front of the car.\r\n",
    "\r\n",
    "In Jupyter Notebook, we can access the car's LIDAR data using `rc.lidar.get_samples_async()`.  Outside of Jupyter Notebook, we must use `rc.lidar.get_samples()` instead."
   ],
   "metadata": {}
  },
  {
   "cell_type": "code",
   "execution_count": 82,
   "source": [
    "# Calculate and show the forward and rear distances\r\n",
    "forward_distance = scan[0]\r\n",
    "print(f\"Forward distance: {forward_distance:.2f} cm\")\r\n",
    "\r\n",
    "rear_distance = scan[360]\r\n",
    "print(f\"Rear distance: {rear_distance:.2f} cm\")"
   ],
   "outputs": [
    {
     "output_type": "stream",
     "name": "stdout",
     "text": [
      "Forward distance: 56.65 cm\n",
      "Rear distance: 77.69 cm\n"
     ]
    }
   ],
   "metadata": {}
  },
  {
   "cell_type": "markdown",
   "source": [
    "**<span style=\"color:red\">Set `left_distance` and `right_distance` in the following code block to the LIDAR measurements directly to the left and directly to the right of the car.</span>**"
   ],
   "metadata": {}
  },
  {
   "cell_type": "markdown",
   "source": [
    "<a id=\"VisualizingLidarData\"></a>\r\n",
    "## 3. Visualizing LIDAR data\r\n",
    "\r\n",
    "In this section, we will write a function to convert LIDAR data into a color image providing a top-down view of the data.  We will use the following approach:\r\n",
    "\r\n",
    "1. Create an all-black BGR image (a 3D numpy array ordered rows, columns, color channels) of the specified radius.\r\n",
    "1. Denote the car by drawing a green dot at the center of the image with [`rc_utils.draw_circle`](https://mitll-racecar.readthedocs.io/en/latest/racecar_utils.html#racecar_utils.draw_circle).\r\n",
    "1. For each LIDAR sample, set the corresponding pixel to red. We can calculate the angle of each sample based on its index in the scan.  By scaling the distance such that `max_range` is the edge of the image, we can convert this angle and distance into a row and column in the image.\r\n",
    "1. `highlighted_samples` contains a list of `(angle, distance)` measurements that we wish to highlight with light blue dots. These can be plotted similarly to the samples in the previous step and drawn with `rc_utils.draw_circle`.\r\n",
    "1. Display the color image in the Jupyter Notebook with Matplotlib.\r\n",
    "\r\n",
    "The result should look similar to the LIDAR visualization shown in the left sidebar of RacecarSim.\r\n",
    "\r\n",
    "**<span style=\"color:red\">Finish implementing this approach in the `show_lidar` function below.</span>**"
   ],
   "metadata": {}
  },
  {
   "cell_type": "code",
   "execution_count": 112,
   "source": [
    "show_lidar(scan)"
   ],
   "outputs": [
    {
     "output_type": "display_data",
     "data": {
      "text/plain": [
       "<Figure size 432x288 with 1 Axes>"
      ],
      "image/png": "[encoded data removed]"
     },
     "metadata": {
      "needs_background": "light"
     }
    }
   ],
   "metadata": {
    "scrolled": true
   }
  },
  {
   "cell_type": "markdown",
   "source": [
    "For now, we will test out the `highlighted_samples` feature by highlighting points 100 cm in each cardinal direction."
   ],
   "metadata": {}
  },
  {
   "cell_type": "markdown",
   "source": [
    "<a id=\"HandlingNoise\"></a>\r\n",
    "## 4. Handling Noise\r\n",
    "\r\n",
    "Just like depth images, LIDAR data is also subject to noise and null values. To help combat this, we will once again average several neighboring samples across an *angle window* instead of relying on a single measurement. For example, if we want to measure the distance at 60 degrees with a 4 degree window angle, we would average all of the samples from 58 to 62 degrees.  To reduce the impact of null values, we should not consider any 0.0 measurement in our average.\r\n",
    "\r\n",
    "**<span style=\"color:red\">Implement this approach in `get_lidar_average_distance`</span>**. You may wish to use a Python [list comprehension](https://docs.python.org/3/tutorial/datastructures.html#list-comprehensions)."
   ],
   "metadata": {}
  },
  {
   "cell_type": "code",
   "execution_count": 127,
   "source": [
    "WINDOW_ANGLE = 6\r\n",
    "rear_distance = get_lidar_average_distance(scan, 180, WINDOW_ANGLE)\r\n",
    "print(f\"Rear distance ({WINDOW_ANGLE} degree window): {rear_distance:.2f} cm\")"
   ],
   "outputs": [
    {
     "output_type": "stream",
     "name": "stdout",
     "text": [
      "Rear distance (6 degree window): 78.11 cm\n"
     ]
    }
   ],
   "metadata": {
    "scrolled": false
   }
  },
  {
   "cell_type": "markdown",
   "source": [
    "`get_lidar_average_distance` must handle when the angle window passes over the edge of the array.  For example, with an angle of 0 and a window angle of 6, we must consider all samples in the range 357 to 3 degrees.\r\n",
    "\r\n",
    "**<span style=\"color:red\">If you have not done so already, update `get_lidar_average_distance` to support angle windows that cross the edge of the array.</span>**."
   ],
   "metadata": {}
  },
  {
   "cell_type": "markdown",
   "source": [
    "Finally, we must handle when there is no data in the specified angle window.  In this case, we should return `0.0`.\r\n",
    "\r\n",
    "**<span style=\"color:red\">If you have not done so already, update `get_lidar_average_distance` to return `0.0` when the specified range does not contain any data.</span>**."
   ],
   "metadata": {}
  },
  {
   "cell_type": "code",
   "execution_count": 171,
   "source": [
    "def get_lidar_closest_point(\r\n",
    "    scan: NDArray[Any, np.float32], window: Tuple[float, float] = (0, 360)\r\n",
    ") -> Tuple[float, float]:\r\n",
    "    \"\"\"\r\n",
    "    Finds the closest point from a LIDAR scan.\r\n",
    "\r\n",
    "    Args:\r\n",
    "        scan: The samples from a LIDAR scan.\r\n",
    "        window: The degree range to consider, expressed as (min_degree, max_degree)\r\n",
    "\r\n",
    "    Returns:\r\n",
    "        The (angle, distance) of the point closest to the car within the specified\r\n",
    "        degree window. All angles are in degrees, starting at 0 directly in front of the\r\n",
    "        car and increasing clockwise. Distance is in cm.\r\n",
    "\r\n",
    "    Note:\r\n",
    "        Ignores any samples with a value of 0.0 (no data).\r\n",
    "\r\n",
    "        In order to define a window which passes through the 360-0 degree boundary, it\r\n",
    "        is acceptable for window min_degree to be larger than window max_degree.  For\r\n",
    "        example, (350, 10) is a 20 degree window in front of the car.\r\n",
    "    \"\"\"\r\n",
    "    # TODO: Return the (angle, distance) of the closest point within the specified window\r\n",
    "    window *= 2\r\n",
    "    window = (window[0] % 720, window[1] %720)\r\n",
    "    scan_copy = scan[window[0] : window[1]] if window [1] > window[0] else np.append(scan[window[0] :720], scan[0 : window[1]])\r\n",
    "    scan_copy = (scan_copy - 0.01) % 10000\r\n",
    "    min_ind = np.argmin(scan_copy)\r\n",
    "    return ((min_ind/2 + window[0]/2) % 360, scan_copy[min_ind])"
   ],
   "outputs": [],
   "metadata": {}
  },
  {
   "cell_type": "markdown",
   "source": [
    "Let's use `get_lidar_closest_point` to find the closest point to the right of the car."
   ],
   "metadata": {}
  },
  {
   "cell_type": "markdown",
   "source": [
    "Once again, we should handle when the specified degree range passes over the edge of our array.  **<span style=\"color:red\">If you have not done so already, update `get_lidar_closest_point` to support negative angles and windows that cross the edge of the array.</span>**."
   ],
   "metadata": {}
  }
 ],
 "metadata": {
  "kernelspec": {
   "display_name": "Python 3 (ipykernel)",
   "language": "python",
   "name": "python3"
  },
  "language_info": {
   "codemirror_mode": {
    "name": "ipython",
    "version": 3
   },
   "file_extension": ".py",
   "mimetype": "text/x-python",
   "name": "python",
   "nbconvert_exporter": "python",
   "pygments_lexer": "ipython3",
   "version": "3.8.10"
  }
 },
 "nbformat": 4,
 "nbformat_minor": 4
}